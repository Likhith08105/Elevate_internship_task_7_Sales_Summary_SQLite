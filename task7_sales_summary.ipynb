{
  "nbformat": 4,
  "nbformat_minor": 0,
  "metadata": {
    "colab": {
      "provenance": []
    },
    "kernelspec": {
      "name": "python3",
      "display_name": "Python 3"
    },
    "language_info": {
      "name": "python"
    }
  },
  "cells": [
    {
      "cell_type": "code",
      "source": [
        "import sqlite3\n",
        "import pandas as pd\n",
        "import matplotlib.pyplot as plt\n"
      ],
      "metadata": {
        "id": "lwKT9vFPlUnz"
      },
      "execution_count": 13,
      "outputs": []
    },
    {
      "cell_type": "code",
      "source": [
        "conn = sqlite3.connect('sales_data.db')\n",
        "cursor = conn.cursor()\n"
      ],
      "metadata": {
        "id": "hq3ha6c4lVdp"
      },
      "execution_count": 14,
      "outputs": []
    },
    {
      "cell_type": "code",
      "source": [
        "cursor.execute('CREATE TABLE IF NOT EXISTS sales (product TEXT, quantity INTEGER, price REAL)')\n"
      ],
      "metadata": {
        "colab": {
          "base_uri": "https://localhost:8080/"
        },
        "id": "LDIpOLYzlZWO",
        "outputId": "3ebc22e9-8ecd-4a4f-b055-7e7df6861aa4"
      },
      "execution_count": 15,
      "outputs": [
        {
          "output_type": "execute_result",
          "data": {
            "text/plain": [
              "<sqlite3.Cursor at 0x7ac2d3c2c7c0>"
            ]
          },
          "metadata": {},
          "execution_count": 15
        }
      ]
    },
    {
      "cell_type": "code",
      "source": [
        "sales_data = [\n",
        "    ('Apple', 10, 50),\n",
        "    ('Banana', 20, 30),\n",
        "    ('Mango', 15, 40),\n",
        "    ('Orange', 25, 20),\n",
        "    ('Apple', 5, 50),\n",
        "    ('Banana', 10, 30)\n",
        "]\n",
        "\n",
        "cursor.executemany('INSERT INTO sales VALUES (?, ?, ?)', sales_data)\n",
        "conn.commit()\n"
      ],
      "metadata": {
        "id": "9N4HpZkqlbTp"
      },
      "execution_count": 16,
      "outputs": []
    },
    {
      "cell_type": "code",
      "source": [
        "query = '''\n",
        "SELECT\n",
        "    product,\n",
        "    SUM(quantity) AS total_qty,\n",
        "    SUM(quantity * price) AS revenue\n",
        "FROM sales\n",
        "GROUP BY product\n",
        "'''\n",
        "\n",
        "df = pd.read_sql_query(query, conn)\n",
        "print(df)\n"
      ],
      "metadata": {
        "colab": {
          "base_uri": "https://localhost:8080/"
        },
        "id": "Zd8txPVlldXs",
        "outputId": "33438269-a3ad-4fdb-bd99-747eccc2ac50"
      },
      "execution_count": 17,
      "outputs": [
        {
          "output_type": "stream",
          "name": "stdout",
          "text": [
            "  product  total_qty  revenue\n",
            "0   Apple         15    750.0\n",
            "1  Banana         30    900.0\n",
            "2   Mango         15    600.0\n",
            "3  Orange         25    500.0\n"
          ]
        }
      ]
    },
    {
      "cell_type": "code",
      "source": [
        "plt.figure(figsize=(6,4))\n",
        "plt.bar(df['product'], df['revenue'], color='skyblue')\n",
        "plt.title('Revenue by Product')\n",
        "plt.xlabel('Product')\n",
        "plt.ylabel('Revenue')\n",
        "plt.grid(axis='y')\n",
        "plt.savefig('sales_chart.png')\n",
        "plt.show()\n"
      ],
      "metadata": {
        "colab": {
          "base_uri": "https://localhost:8080/",
          "height": 410
        },
        "id": "c4CJaJw7lfeV",
        "outputId": "9cc68388-850c-411e-ce41-df55786a1a2f"
      },
      "execution_count": 18,
      "outputs": [
        {
          "output_type": "display_data",
          "data": {
            "text/plain": [
              "<Figure size 600x400 with 1 Axes>"
            ],
            "image/png": "[encoded data removed]"
          },
          "metadata": {}
        }
      ]
    },
    {
      "cell_type": "code",
      "source": [
        "conn.close()\n"
      ],
      "metadata": {
        "id": "F0634_Amlhty"
      },
      "execution_count": 19,
      "outputs": []
    }
  ]
}